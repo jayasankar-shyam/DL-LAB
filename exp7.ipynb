{
 "cells": [
  {
   "cell_type": "code",
   "execution_count": 3,
   "id": "66a5bf5b",
   "metadata": {},
   "outputs": [
    {
     "name": "stdout",
     "output_type": "stream",
     "text": [
      "Epoch 1/5\n",
      "313/313 [==============================] - 88s 273ms/step - loss: 0.4466 - accuracy: 0.7866 - val_loss: 0.4246 - val_accuracy: 0.8130\n",
      "Epoch 2/5\n",
      "313/313 [==============================] - 85s 273ms/step - loss: 0.2670 - accuracy: 0.8943 - val_loss: 0.3231 - val_accuracy: 0.8664\n",
      "Epoch 3/5\n",
      "313/313 [==============================] - 89s 284ms/step - loss: 0.1807 - accuracy: 0.9337 - val_loss: 0.3325 - val_accuracy: 0.8718\n",
      "Epoch 4/5\n",
      "313/313 [==============================] - 91s 289ms/step - loss: 0.1341 - accuracy: 0.9513 - val_loss: 0.3892 - val_accuracy: 0.8514\n",
      "Epoch 5/5\n",
      "313/313 [==============================] - 91s 290ms/step - loss: 0.1242 - accuracy: 0.9552 - val_loss: 0.4286 - val_accuracy: 0.8540\n",
      "782/782 [==============================] - 30s 38ms/step - loss: 0.4629 - accuracy: 0.8468\n",
      "Test accuracy: 84.68%\n",
      "1/1 [==============================] - 0s 500ms/step\n"
     ]
    },
    {
     "data": {
      "text/plain": [
       "'Negative Review'"
      ]
     },
     "execution_count": 3,
     "metadata": {},
     "output_type": "execute_result"
    }
   ],
   "source": [
    "import numpy as np\n",
    "import tensorflow as tf\n",
    "from tensorflow.keras.datasets import imdb\n",
    "from tensorflow.keras.preprocessing.sequence import pad_sequences\n",
    "from tensorflow.keras.models import Sequential\n",
    "from tensorflow.keras.layers import Embedding, LSTM, Dense\n",
    "\n",
    "(X_train, y_train), (X_test, y_test) = imdb.load_data(num_words=10000)\n",
    "X_train = pad_sequences(X_train, maxlen=200)\n",
    "X_test = pad_sequences(X_test, maxlen=200)\n",
    "\n",
    "model = Sequential([\n",
    "    Embedding(input_dim=10000, output_dim=128, input_length=200),\n",
    "    LSTM(128),\n",
    "    Dense(1, activation='sigmoid')\n",
    "    ])\n",
    "\n",
    "model.compile(loss='binary_crossentropy', optimizer='adam', metrics=['accuracy'])\n",
    "\n",
    "model.fit(X_train, y_train, validation_split=0.2, epochs=5, batch_size=64)\n",
    "\n",
    "loss, accuracy = model.evaluate(X_test, y_test)\n",
    "print(f\"Test accuracy: {round(accuracy * 100, 2)}%\")\n",
    "\n",
    "# Reshape the sequence to match the batch size expected by the model\n",
    "test_seq = np.reshape(X_test[7], (1, -1))\n",
    "\n",
    "pred = model.predict(test_seq)[0]\n",
    "'Positive Review' if int(pred[0]) == 1 else \"Negative Review\""
   ]
  },
  {
   "cell_type": "code",
   "execution_count": null,
   "id": "36f32265",
   "metadata": {},
   "outputs": [],
   "source": []
  }
 ],
 "metadata": {
  "kernelspec": {
   "display_name": "Python 3 (ipykernel)",
   "language": "python",
   "name": "python3"
  },
  "language_info": {
   "codemirror_mode": {
    "name": "ipython",
    "version": 3
   },
   "file_extension": ".py",
   "mimetype": "text/x-python",
   "name": "python",
   "nbconvert_exporter": "python",
   "pygments_lexer": "ipython3",
   "version": "3.10.9"
  }
 },
 "nbformat": 4,
 "nbformat_minor": 5
}
