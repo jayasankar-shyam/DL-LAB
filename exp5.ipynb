{
 "cells": [
  {
   "cell_type": "code",
   "execution_count": 22,
   "id": "3a32b652-7c2c-422a-8253-d93aec8b2feb",
   "metadata": {},
   "outputs": [],
   "source": [
    "import tensorflow as tf\n",
    "from tensorflow.keras.datasets import mnist\n",
    "from tensorflow.keras.utils import to_categorical\n",
    "from tensorflow.keras import Sequential,layers\n",
    "(X_train,y_train),(X_test,y_test)=mnist.load_data()"
   ]
  },
  {
   "cell_type": "code",
   "execution_count": 23,
   "id": "ba11e870-51ef-4bf2-a05a-611e4993d96d",
   "metadata": {},
   "outputs": [],
   "source": [
    "X_train,X_test=X_train/255,X_test/255\n",
    "y_train,y_test=to_categorical(y_train),to_categorical(y_test)"
   ]
  },
  {
   "cell_type": "code",
   "execution_count": 24,
   "id": "d413bfb8-241d-41d7-92c0-9468ff2ccf98",
   "metadata": {},
   "outputs": [],
   "source": [
    "model=Sequential([\n",
    "    layers.Conv2D(32,3,activation='relu',input_shape=(28,28,1)),\n",
    "    layers.MaxPooling2D(),\n",
    "    layers.Conv2D(64,3,activation='relu'),\n",
    "    layers.MaxPooling2D(),\n",
    "    layers.Conv2D(64,3,activation='relu'),\n",
    "    layers.Flatten(),\n",
    "    layers.Dense(64,activation='relu'),\n",
    "    layers.Dense(10,activation='softmax')\n",
    "])"
   ]
  },
  {
   "cell_type": "code",
   "execution_count": 25,
   "id": "4d4417ad-4626-4a02-b595-4593cfaaf387",
   "metadata": {},
   "outputs": [],
   "source": [
    "model.compile(optimizer='adam',loss='categorical_crossentropy',metrics=['accuracy'])"
   ]
  },
  {
   "cell_type": "code",
   "execution_count": 26,
   "id": "89a99efd-efdc-40cf-8a69-4e9f95dbca56",
   "metadata": {},
   "outputs": [
    {
     "name": "stdout",
     "output_type": "stream",
     "text": [
      "Epoch 1/30\n",
      "750/750 [==============================] - 11s 14ms/step - loss: 0.2011 - accuracy: 0.9381 - val_loss: 0.0661 - val_accuracy: 0.9801\n",
      "Epoch 2/30\n",
      "750/750 [==============================] - 10s 14ms/step - loss: 0.0565 - accuracy: 0.9822 - val_loss: 0.0490 - val_accuracy: 0.9858\n",
      "Epoch 3/30\n",
      "750/750 [==============================] - 10s 14ms/step - loss: 0.0387 - accuracy: 0.9876 - val_loss: 0.0455 - val_accuracy: 0.9872\n",
      "Epoch 4/30\n",
      "750/750 [==============================] - 10s 14ms/step - loss: 0.0303 - accuracy: 0.9901 - val_loss: 0.0444 - val_accuracy: 0.9868\n",
      "Epoch 5/30\n",
      "750/750 [==============================] - 11s 14ms/step - loss: 0.0236 - accuracy: 0.9923 - val_loss: 0.0420 - val_accuracy: 0.9869\n",
      "Epoch 6/30\n",
      "750/750 [==============================] - 11s 14ms/step - loss: 0.0189 - accuracy: 0.9936 - val_loss: 0.0374 - val_accuracy: 0.9903\n",
      "Epoch 7/30\n",
      "750/750 [==============================] - 11s 14ms/step - loss: 0.0156 - accuracy: 0.9950 - val_loss: 0.0365 - val_accuracy: 0.9901\n",
      "Epoch 8/30\n",
      "750/750 [==============================] - 11s 14ms/step - loss: 0.0125 - accuracy: 0.9958 - val_loss: 0.0417 - val_accuracy: 0.9895\n",
      "Epoch 9/30\n",
      "750/750 [==============================] - 12s 16ms/step - loss: 0.0115 - accuracy: 0.9960 - val_loss: 0.0346 - val_accuracy: 0.9902\n",
      "Epoch 10/30\n",
      "750/750 [==============================] - 12s 16ms/step - loss: 0.0111 - accuracy: 0.9962 - val_loss: 0.0386 - val_accuracy: 0.9915\n",
      "Epoch 11/30\n",
      "750/750 [==============================] - 12s 16ms/step - loss: 0.0093 - accuracy: 0.9968 - val_loss: 0.0433 - val_accuracy: 0.9896\n",
      "Epoch 12/30\n",
      "750/750 [==============================] - 12s 16ms/step - loss: 0.0080 - accuracy: 0.9975 - val_loss: 0.0467 - val_accuracy: 0.9898\n",
      "Epoch 13/30\n",
      "750/750 [==============================] - 12s 16ms/step - loss: 0.0069 - accuracy: 0.9979 - val_loss: 0.0447 - val_accuracy: 0.9912\n",
      "Epoch 14/30\n",
      "750/750 [==============================] - 12s 17ms/step - loss: 0.0069 - accuracy: 0.9977 - val_loss: 0.0426 - val_accuracy: 0.9896\n",
      "Epoch 15/30\n",
      "750/750 [==============================] - 13s 17ms/step - loss: 0.0067 - accuracy: 0.9980 - val_loss: 0.0499 - val_accuracy: 0.9892\n",
      "Epoch 16/30\n",
      "750/750 [==============================] - 12s 16ms/step - loss: 0.0066 - accuracy: 0.9977 - val_loss: 0.0525 - val_accuracy: 0.9894\n",
      "Epoch 17/30\n",
      "750/750 [==============================] - 12s 16ms/step - loss: 0.0030 - accuracy: 0.9990 - val_loss: 0.0434 - val_accuracy: 0.9921\n",
      "Epoch 18/30\n",
      "750/750 [==============================] - 7s 10ms/step - loss: 0.0073 - accuracy: 0.9975 - val_loss: 0.0448 - val_accuracy: 0.9902\n",
      "Epoch 19/30\n",
      "750/750 [==============================] - 7s 10ms/step - loss: 0.0036 - accuracy: 0.9989 - val_loss: 0.0628 - val_accuracy: 0.9897\n",
      "Epoch 20/30\n",
      "750/750 [==============================] - 7s 10ms/step - loss: 0.0047 - accuracy: 0.9982 - val_loss: 0.0507 - val_accuracy: 0.9904\n",
      "Epoch 21/30\n",
      "750/750 [==============================] - 7s 10ms/step - loss: 0.0042 - accuracy: 0.9987 - val_loss: 0.0473 - val_accuracy: 0.9907\n",
      "Epoch 22/30\n",
      "750/750 [==============================] - 11s 15ms/step - loss: 0.0034 - accuracy: 0.9989 - val_loss: 0.0553 - val_accuracy: 0.9883\n",
      "Epoch 23/30\n",
      "750/750 [==============================] - 12s 16ms/step - loss: 0.0063 - accuracy: 0.9979 - val_loss: 0.0522 - val_accuracy: 0.9907\n",
      "Epoch 24/30\n",
      "750/750 [==============================] - 13s 17ms/step - loss: 0.0022 - accuracy: 0.9993 - val_loss: 0.0539 - val_accuracy: 0.9918\n",
      "Epoch 25/30\n",
      "750/750 [==============================] - 14s 18ms/step - loss: 0.0033 - accuracy: 0.9990 - val_loss: 0.0624 - val_accuracy: 0.9901\n",
      "Epoch 26/30\n",
      "750/750 [==============================] - 13s 17ms/step - loss: 0.0052 - accuracy: 0.9982 - val_loss: 0.0565 - val_accuracy: 0.9917\n",
      "Epoch 27/30\n",
      "750/750 [==============================] - 8s 11ms/step - loss: 0.0034 - accuracy: 0.9988 - val_loss: 0.0615 - val_accuracy: 0.9903\n",
      "Epoch 28/30\n",
      "750/750 [==============================] - 9s 11ms/step - loss: 0.0042 - accuracy: 0.9987 - val_loss: 0.0570 - val_accuracy: 0.9898\n",
      "Epoch 29/30\n",
      "750/750 [==============================] - 9s 11ms/step - loss: 0.0026 - accuracy: 0.9991 - val_loss: 0.0684 - val_accuracy: 0.9909\n",
      "Epoch 30/30\n",
      "750/750 [==============================] - 9s 12ms/step - loss: 0.0049 - accuracy: 0.9986 - val_loss: 0.0541 - val_accuracy: 0.9919\n"
     ]
    },
    {
     "data": {
      "text/plain": [
       "<keras.src.callbacks.History at 0x28f4a3dd0>"
      ]
     },
     "execution_count": 26,
     "metadata": {},
     "output_type": "execute_result"
    }
   ],
   "source": [
    "model.fit(X_train,y_train,epochs=30,batch_size=64,validation_split=0.2)"
   ]
  },
  {
   "cell_type": "code",
   "execution_count": 27,
   "id": "10a16254-b7cb-4a11-8953-c77de6e43588",
   "metadata": {},
   "outputs": [
    {
     "name": "stdout",
     "output_type": "stream",
     "text": [
      "313/313 [==============================] - 1s 2ms/step - loss: 0.0467 - accuracy: 0.9912\n",
      "Test Loss : 0.05\n",
      "Test Accuracy : 99.12%\n"
     ]
    }
   ],
   "source": [
    "test_loss,test_acc=model.evaluate(X_test,y_test)\n",
    "print(f\"Test Loss : {test_loss:.2f}\\nTest Accuracy : {test_acc*100:.2f}%\")"
   ]
  },
  {
   "cell_type": "code",
   "execution_count": null,
   "id": "7012157b-4009-4a44-be38-cfba05fdb676",
   "metadata": {},
   "outputs": [],
   "source": []
  }
 ],
 "metadata": {
  "kernelspec": {
   "display_name": "Python 3 (ipykernel)",
   "language": "python",
   "name": "python3"
  },
  "language_info": {
   "codemirror_mode": {
    "name": "ipython",
    "version": 3
   },
   "file_extension": ".py",
   "mimetype": "text/x-python",
   "name": "python",
   "nbconvert_exporter": "python",
   "pygments_lexer": "ipython3",
   "version": "3.11.5"
  }
 },
 "nbformat": 4,
 "nbformat_minor": 5
}
